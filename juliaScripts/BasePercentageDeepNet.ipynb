<!DOCTYPE html>
<html lang="en">
<head>
    <meta charset="utf-8">
    <meta https-equiv="X-UA-Compatible" content="IE=edge,chrome=1">
    <meta name="viewport" content="width=device-width, initial-scale=1.0">
    <meta name="description" content="">
    <meta name="author" content="">

    <title>JuliaBox</title>
 
    <link rel="shortcut icon" type="image/x-icon" href="static/assets/img/jboxassets/favicon.ico"/>
    
    <link href="//maxcdn.bootstrapcdn.com/bootstrap/3.2.0/css/bootstrap.min.css" rel="stylesheet">
    <link rel="stylesheet" type="text/css" href="static/assets/css/font-awesome.css" />
    <link rel="stylesheet" type="text/css" href="static/assets/css/bootstrap-social.css" />
    <link href="https://fonts.googleapis.com/css?family=Noto+Sans:400,400i,700,700i|Roboto+Slab:100,300,400,700" rel="stylesheet">
    <link rel="stylesheet" href="static/assets/css/css_website/reset.css">
    <link rel="stylesheet" href="static/assets/css/css_website/util.css">
    <link rel="stylesheet" href="static/assets/css/css_website/grid.css">
    <link rel="stylesheet" href="static/assets/css/css_website/style.css">
    <link rel="stylesheet" href="static/assets/css/css_website/type-scale.css">
    <link rel="stylesheet" href="static/assets/css/css_website/color-scale.css">
    <link rel="stylesheet" href="static/assets/css/css_website/highlight.css">

    
    
    <script type="text/javascript" src="//use.typekit.net/cpz5ogz.js"></script>
    <script type="text/javascript">try{Typekit.load();}catch(e){}</script>
    <script type="text/javascript">
        function areCookiesEnabled() {
            var cookieEnabled = navigator.cookieEnabled;
            if (cookieEnabled === false) return false;
            if (!document.cookie && (cookieEnabled === null ||  false)) {
                document.cookie = "testcookie=1";
                if (!document.cookie) return false;
                else document.cookie = "testcookie=; expires=" + new Date(0).toUTCString();
            }
            return true;
        };

        function valLoginForm() {
        	if(!areCookiesEnabled()) {
        		alert("Your browser settings do not allow cookies. JuliaBox requires cookies to log you in. Please enable them in your browser settings and try again.");
        		return false;
        	}
        	return true;
        }
        function deleteAllCookies() {
            var cookies = document.cookie.split(";");

            for (var i = 0; i < cookies.length; i++) {
                var cookie = cookies[i];
                var eqPos = cookie.indexOf("=");
                var name = eqPos > -1 ? cookie.substr(0, eqPos) : cookie;
                document.cookie = name + "=;expires=Thu, 01 Jan 1970 00:00:00 GMT";
            }
        }
        function resetState() {
            deleteAllCookies();
            window.location = "//accounts.google.com/logout";
        }
    </script>
</head>



<body>
<style>
.u-slab {
    font-family: museo-slab;
}
@media screen and (max-width: 700px){
    .resp-bg-left {
        background-position: left;
    }
    .resp-bg-height {
        height: 400px !important;
    }
}

@media screen and (max-width: 1152px){
    .resp-grow {
        max-width: 100% !important;
    }
    .resp-hide {
        display: none
    }
    .resp-center {
        margin: 0 auto !important;
    }
    .resp-vmargins {
        margin-top: 16px;
        margin-bottom: 16px;
    }
    .resp-hpad {
        padding-left: 16px !important;
        padding-right: 16px !important;
    }
    .resp-vskip {
        height: 16px !important;
    }
    .resp-justify-center {
        justify-content: center !important;
    }
    .resp-cols-6 {
        width: 544px;
    }
    .resp-text-center {
        text-align: center;
    }
}
    .resp-vskip {
        height: 0px; width: 0px;
    }
    .bg-transition {
        -webkit-transition:background-position .1s ease-in;
        -moz-transition:background-position .1s ease-in;
        -o-transition:background-position .1s ease-in;
        transition:background-position .1s ease-in;
    }
</style>

    


    <div class="banner-fin-bg bg-juliabox-blue bg-transition u-hbox u-items-center resp-bg-left resp-bg-height"
        style="background-image: url(static/assets/img/jboxassets/jboxbanner.svg)">

        <div class="u-container resp-grow u-center u-hbox u-items-center resp-justify-center">

          <div class="u-max-cols-4 u-vbox resp-grow">
            <img src="static/assets/img/jboxassets/juliabox-big.svg" width="200" class="resp-center">
            <div class="u-vskip"></div>
            <div class="u-title-small u-slab text-white u-bold">
              Run Julia in your Browser
            </div>
          </div>

          <div class="u-cols-4 resp-hide"></div>

          <div class="u-cols-4 resp-grow resp-center resp-vmargins">
            <div class="resp-vskip"></div>
            <div class="sign-in-container"><div class="theme-panel u-vbox u-items-center">
                <div>
                
                  
                      <div class="theme-form-row">
                        <a href="/dex/auth/github?req=p3buawcdrcx2m5uyrh7in7xea" target="_self">
                            <button id="GitHub-btn" class="dex-btn theme-btn-provider btn btn-block btn-social ">
                            <span class="fa"></span>
                            Log in with GitHub
                          </button>
                        </a>
                      </div>
                      <div class="u-vskip-half"></div>
                    
                
                  
                      <div class="theme-form-row">
                        <a href="/dex/auth/google?req=p3buawcdrcx2m5uyrh7in7xea" target="_self">
                            <button id="Google-btn" class="dex-btn theme-btn-provider btn btn-block btn-social ">
                            <span class="fa"></span>
                            Log in with Google
                          </button>
                        </a>
                      </div>
                      <div class="u-vskip-half"></div>
                    
                
                  
                      <div class="theme-form-row">
                        <a href="/dex/auth/linkedin?req=p3buawcdrcx2m5uyrh7in7xea" target="_self">
                            <button id="LinkedIn-btn" class="dex-btn theme-btn-provider btn btn-block btn-social ">
                            <span class="fa"></span>
                            Log in with LinkedIn
                          </button>
                        </a>
                      </div>
                      <div class="u-vskip-half"></div>
                    
                
                  
                
                </div>
            </div></div>
          </div>
        </div>
    </div>

    <div class="bg-gray-login">
      <div class="u-container resp-grow u-hbox" style="margin: 0 auto">

        <div class="u-max-cols-3 resp-grow resp-hpad resp-center resp-cols-6">
          <div class="u-vskip-2"></div>
          <div class="u-vskip-2"></div>
          <div class="text-jb-blue resp-text-center" style="font-size: 4em;">
            70,000+
          </div>
          <div class="text-gray-3 u-highlight-small u-uppercase resp-text-center">
              Users served since 2015
          </div>
          <div class="u-vskip"></div>
          <div class="u-body-medium text-gray">
            JuliaBox is the fastest way to start using Julia immediately from your browser with no download required. The new and improved JuliaBox includes all of the JuliaBox features you know and love, plus parallel computing and multi-node scalability.
          </div>
          <div class="u-vskip"></div>
          <div class="u-body-small u-bold text-gray-4">
              For more information, for running hosted applications or to purchase additional memory, storage, nodes or enterprise support, please contact <a href="mailto:juliabox@juliacomputing.com">juliabox@juliacomputing.com</a>
          </div>
          <div class="u-vskip-2"></div>
        </div>

        <div class="u-vbox u-cols-9 resp-center">
          <div class="u-vskip-2"></div>
          <div class="u-vskip-2"></div>

            <div class="u-hbox u-space-around">
              <div class="u-vbox u-items-center u-cols-2">
                <div><img src="static/assets/img/jboxassets/jupyternew.svg" width="144px" class="resp-center"></div>
                <div class="u-vskip"></div>
                <div class="text-gray u-text-center u-bold u-body-extra-small text-gray-4">Jupyter Notebook Interface</div>
                <div class="u-vskip-2"></div>
              </div>

              <div class="u-vbox u-items-center u-cols-2">
                <div><img src="static/assets/img/jboxassets/inbrowser.svg" width="144px"></div>
                <div class="u-vskip"></div>
                <div class="text-gray u-text-center u-bold u-body-extra-small text-gray-4">Runs in the browser</div>
                <div class="u-vskip-2"></div>
              </div>

              <div class="u-vbox u-items-center u-cols-2">
                <div><img src="static/assets/img/jboxassets/gift.svg" width="144px"></div>
                <div class="u-vskip"></div>
                <div class="text-gray u-text-center u-bold u-body-extra-small text-gray-4">Free registration, <br> free to use</div>
                <div class="u-vskip-2"></div>
              </div>
            </div>

            <div class="u-hbox u-space-around">
              <div class="u-vbox u-items-center u-cols-2">
                <div><img src="static/assets/img/jboxassets/acad.svg" width="144px"></div>
                <div class="u-vskip"></div>
                <div class="text-gray u-text-center u-bold u-body-extra-small text-gray-4">Perfect for classes, students, professors and new Julia users</div>
                <div class="u-vskip-2"></div>
              </div>

              <div class="u-vbox u-items-center u-cols-2">
                <div><img src="static/assets/img/jboxassets/newandimproved.svg" width="200px"></div>
              </div>

              <div class="u-vbox u-items-center u-cols-2">
                <div><img src="static/assets/img/jboxassets/pkg.svg" width="144px"></div>
                <div class="u-vskip"></div>
                <div class="text-gray u-text-center u-bold u-body-extra-small text-gray-4">Includes 100+ carefully curated popular Julia packages</div>
                <div class="u-vskip-2"></div>
              </div>


            </div>

            <div class="u-hbox u-space-around">
              <div class="u-vbox u-items-center u-cols-2">
                <div><img src="static/assets/img/jboxassets/multinode.svg" width="144px"></div>
                <div class="u-vskip"></div>
                <div class="text-gray u-text-center u-bold u-body-extra-small text-gray-4"> Multi-node deployment capability</div>
                <div class="u-vskip-2"></div>
              </div>

              <div class="u-vbox u-items-center u-cols-2">
                <div><img src="static/assets/img/jboxassets/parallel.svg" width="144px"></div>
                <div class="u-vskip"></div>
                <div class="text-gray u-text-center u-bold u-body-extra-small text-gray-4">Parallel computing capability</div>
                <div class="u-vskip-2"></div>
              </div>
              <div class="u-vbox u-items-center u-cols-2">
                <div><img src="static/assets/img/jboxassets/buy.svg" width="144px"></div>
                <div class="u-vskip"></div>
                <div class="text-gray u-text-center u-bold u-body-extra-small text-gray-4">Buy added memory, storage, nodes and enterprise support</div>
                <div class="u-vskip-2"></div>
              </div>
            </div>


            </div>
            <div class="u-vskip-2"></div>
            <div class="u-vskip-2"></div>
        </div>
      </div>
    </div>


    <div class="u-vbox resp-center">
      <div class="u-vskip-2"></div>
      <div class="u-hbox u-container u-justify-center resp-grow u-center">
        <div class="u-cols-4 u-body-extra-small text-black text-gray-3 resp-grow resp-center">
          This is the new version of JuliaBox. The old version is still available at <a href="https://v1.juliabox.com">v1.juliabox.com</a>. Use the data migration tool (User|Settings) to copy your data from the old system. This is a beta version. Please back up your data.

        </div>
        <div class="u-cols-2 u-resp-grow">
            <div class="resp-vskip"></div>
            <div class="resp-vskip"></div>
            <div class="u-vbox u-items-center">
                <div class="u-uppercase text-gray-4" style="letter-spacing: 2px; font-size: 12px">A product of </div>
                <div><a href="http://juliacomputing.com"><img height="64px" src="https://juliacomputing.com/assets/img/new/julia-computing.svg"></a></div>
            </div>
        </div>
      </div>
      <div class="u-vskip-2"></div>
    </div>

    <div class="bg-black">
        <div class="u-vskip"></div>
        <div class="u-center u-container resp-grow resp-hpad u-hbox">
          <div class="text-white">Support email: <a href="mailto:juliabox@juliacomputing.com" class="text-white">juliabox@juliacomputing.com</a></div>
          <div class="text-white">
            <a id="terms" class="text-white" href="#">Terms of service</a> | <a id="privacy" class="text-white" href="#">Privacy policy</a>
          </div>
        </div>
        <div class="u-vskip"></div>
    </div>


    <div id="terms-modal" class="modal fade" role="dialog">
      <div class="modal-dialog">
        <div class="modal-content">
          <div class="modal-header">
            <button type="button" class="close" data-dismiss="modal">&times;</button>
            <br>
          </div>
          <div id="terms-body" class="modal-body">
          </div>
          <div class="modal-footer">
            <button type="button" class="btn btn-default" data-dismiss="modal">Close</button>
          </div>
        </div>
      </div>
    </div>

    <div id="privacy-modal" class="modal fade" role="dialog">
      <div class="modal-dialog">
        <div class="modal-content">
          <div class="modal-header">
            <button type="button" class="close" data-dismiss="modal">&times;</button>
            <br>
          </div>
          <div id="privacy-body" class="modal-body">
          </div>
          <div class="modal-footer">
            <button type="button" class="btn btn-default" data-dismiss="modal">Close</button>
          </div>
        </div>
      </div>
    </div>

    <script src="//code.jquery.com/jquery-1.11.0.min.js"></script>
    <script src="//maxcdn.bootstrapcdn.com/bootstrap/3.2.0/js/bootstrap.min.js"></script>
    <script>

    function setup_modal (kind) {
        csspath = "static/assets/css/" + kind + ".css";

        if (!$("link[href='" + csspath + "']").length) {
            $("<link/>", {
                rel: "stylesheet",
                type: "text/css",
                href: csspath
            }).appendTo("head");
        }

        modbody = '#' + kind + '-body';
        if(!$.trim($(modbody).html()).length) {
            $(modbody).load('static/assets/html/' + kind + '.html');
        }

        $('#' + kind + '-modal').modal();
    }

    $(document).ready(function () {
        $('#GitHub-btn').addClass('btn-github');
        $('#GitHub-btn span').addClass('fa-github');
        $('#Google-btn').addClass('btn-google');
        $('#Google-btn span').addClass('fa-google');
        $('#LinkedIn-btn').addClass('btn-linkedin');
        $('#LinkedIn-btn span').addClass('fa-linkedin');

        $('#terms').click(function (evt) {
            evt.preventDefault();
            setup_modal('terms');
        });

        $('#privacy').click(function (evt) {
            evt.preventDefault();
            setup_modal('privacy');
        });

        $('.modal').on('show.bs.modal', function () {
            $('.modal .modal-body').css('max-height', $(window).height() * 0.7);
        });
    });

    (function(i,s,o,g,r,a,m){i['GoogleAnalyticsObject']=r;i[r]=i[r]||function(){
    (i[r].q=i[r].q||[]).push(arguments)},i[r].l=1*new Date();a=s.createElement(o),
    m=s.getElementsByTagName(o)[0];a.async=1;a.src=g;m.parentNode.insertBefore(a,m)
    })(window,document,'script','//www.google-analytics.com/analytics.js','ga');

    ga('create', 'UA-61034491-2', 'auto');
    ga('send', 'pageview');
    </script>
</body>


</html>

